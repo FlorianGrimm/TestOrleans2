{
 "cells": [
  {
   "cell_type": "markdown",
   "metadata": {},
   "source": [
    "# Replacement"
   ]
  },
  {
   "cell_type": "markdown",
   "metadata": {},
   "source": [
    "## Build"
   ]
  },
  {
   "cell_type": "code",
   "execution_count": null,
   "metadata": {
    "dotnet_interactive": {
     "language": "pwsh"
    },
    "vscode": {
     "languageId": "dotnet-interactive.pwsh"
    }
   },
   "outputs": [],
   "source": [
    "dotnet build"
   ]
  },
  {
   "cell_type": "markdown",
   "metadata": {},
   "source": [
    "## User Secrets"
   ]
  },
  {
   "cell_type": "code",
   "execution_count": null,
   "metadata": {
    "dotnet_interactive": {
     "language": "pwsh"
    },
    "vscode": {
     "languageId": "dotnet-interactive.pwsh"
    }
   },
   "outputs": [],
   "source": [
    "dotnet user-secrets --project src\\Replacement.WebApp\\Replacement.WebApp.csproj list"
   ]
  },
  {
   "cell_type": "code",
   "execution_count": null,
   "metadata": {
    "dotnet_interactive": {
     "language": "pwsh"
    },
    "vscode": {
     "languageId": "dotnet-interactive.pwsh"
    }
   },
   "outputs": [],
   "source": [
    "dotnet user-secrets --project src\\Replacement.WebApp\\Replacement.WebApp.csproj set Database \"Data Source=.;Initial Catalog=ToDoDB;Integrated Security=true;TrustServerCertificate=True;\""
   ]
  },
  {
   "cell_type": "markdown",
   "metadata": {},
   "source": [
    "## Test"
   ]
  },
  {
   "cell_type": "code",
   "execution_count": null,
   "metadata": {
    "dotnet_interactive": {
     "language": "pwsh"
    },
    "vscode": {
     "languageId": "dotnet-interactive.pwsh"
    }
   },
   "outputs": [],
   "source": [
    "dotnet test src\\Replacement.WebApp.Test\\Replacement.WebApp.Test.csproj"
   ]
  },
  {
   "cell_type": "code",
   "execution_count": null,
   "metadata": {
    "dotnet_interactive": {
     "language": "pwsh"
    },
    "vscode": {
     "languageId": "dotnet-interactive.pwsh"
    }
   },
   "outputs": [],
   "source": [
    "dotnet test src\\Replacement.Repository.Test\\Replacement.Repository.Test.csproj"
   ]
  },
  {
   "cell_type": "code",
   "execution_count": null,
   "metadata": {
    "dotnet_interactive": {
     "language": "pwsh"
    },
    "vscode": {
     "languageId": "dotnet-interactive.pwsh"
    }
   },
   "outputs": [],
   "source": [
    "dotnet test external\\Brimborium.RowVersion\\Brimborium.RowVersion.Test\\Brimborium.RowVersion.Test.csproj"
   ]
  },
  {
   "cell_type": "markdown",
   "metadata": {},
   "source": [
    "## Update SQL"
   ]
  },
  {
   "cell_type": "code",
   "execution_count": null,
   "metadata": {
    "dotnet_interactive": {
     "language": "pwsh"
    },
    "vscode": {
     "languageId": "dotnet-interactive.pwsh"
    }
   },
   "outputs": [],
   "source": [
    "dotnet run --project src\\Replacement.DatabaseDevTool\\Replacement.DatabaseDevTool.csproj"
   ]
  },
  {
   "cell_type": "code",
   "execution_count": null,
   "metadata": {
    "dotnet_interactive": {
     "language": "pwsh"
    },
    "vscode": {
     "languageId": "dotnet-interactive.pwsh"
    }
   },
   "outputs": [],
   "source": [
    "dotnet run --project .\\src\\Replacement.DatabaseDevTool\\Replacement.DatabaseDevTool.csproj --steps 1,2,3,4,5,6 --force true"
   ]
  },
  {
   "cell_type": "code",
   "execution_count": null,
   "metadata": {
    "dotnet_interactive": {
     "language": "pwsh"
    },
    "vscode": {
     "languageId": "dotnet-interactive.pwsh"
    }
   },
   "outputs": [],
   "source": [
    "\n",
    "dotnet run --project .\\src\\Replacement.DatabaseDevTool\\Replacement.DatabaseDevTool.csproj --steps 1 --force true"
   ]
  },
  {
   "cell_type": "code",
   "execution_count": null,
   "metadata": {
    "dotnet_interactive": {
     "language": "pwsh"
    },
    "vscode": {
     "languageId": "dotnet-interactive.pwsh"
    }
   },
   "outputs": [],
   "source": [
    "dotnet run --project .\\src\\Replacement.DatabaseDevTool\\Replacement.DatabaseDevTool.csproj --steps 2"
   ]
  },
  {
   "cell_type": "code",
   "execution_count": null,
   "metadata": {
    "dotnet_interactive": {
     "language": "markdown"
    },
    "vscode": {
     "languageId": "dotnet-interactive.pwsh"
    }
   },
   "outputs": [],
   "source": [
    "dotnet run --project .\\src\\Replacement.DatabaseDevTool\\Replacement.DatabaseDevTool.csproj --steps 3 --force true"
   ]
  },
  {
   "cell_type": "code",
   "execution_count": null,
   "metadata": {
    "dotnet_interactive": {
     "language": "pwsh"
    },
    "vscode": {
     "languageId": "dotnet-interactive.pwsh"
    }
   },
   "outputs": [
    {
     "name": "stdout",
     "output_type": "stream",
     "text": [
      "\r\n",
      "- 1) Update tables in database.\r\n",
      "- 2) Generate Sql files.\r\n",
      "- 3) Update tables & store procedures in database.\r\n",
      "* 4) Generate PrimaryKey.\r\n",
      "+ 5) Generate SqlAccess C#.\r\n",
      "- 6) Generate ConvertTo***.\r\n",
      "not changed: C:\\github.com\\FlorianGrimm\\TestOrleans2\\src\\Replacement.Contracts\\API\\PrimaryKey.cs\r\n",
      "\r\n",
      "- 1) Update tables in database.\r\n",
      "- 2) Generate Sql files.\r\n",
      "- 3) Update tables & store procedures in database.\r\n",
      "- 4) Generate PrimaryKey.\r\n",
      "* 5) Generate SqlAccess C#.\r\n",
      "- 6) Generate ConvertTo***.\r\n",
      "#warning ColumnNames: OperationId, OperationName, EntityType, EntityId, CreatedAt, UserId, EntitiyVersion\r\n",
      "#warning not loaded from SQL Replacement.Contracts.Entity.OperationEntity\r\n",
      "#warning Column not mapped 6: EntitiyVersion bigint (0)\r\n",
      "#warning ColumnNames: OperationId, OperationName, EntityType, EntityId, CreatedAt, UserId, EntitiyVersion\r\n",
      "#warning not loaded from SQL Replacement.Contracts.Entity.OperationEntity\r\n",
      "#warning Column not mapped 6: EntitiyVersion bigint (0)\r\n",
      "#warning StoredProcedure [dbo].[ProjectDeletePK] defines parameter @EntitiyVersion no matching property found.\r\n",
      "#warning ColumnNames: ProjectId, Title, OperationId, CreatedAt, CreatedBy, ModifiedAt, ModifiedBy, EntitiyVersion\r\n",
      "#warning not loaded from SQL Replacement.Contracts.Entity.ProjectEntity\r\n",
      "#warning Column not mapped 7: EntitiyVersion bigint (0)\r\n",
      "#warning ColumnNames: ProjectId, Title, OperationId, CreatedAt, CreatedBy, ModifiedAt, ModifiedBy, EntitiyVersion\r\n",
      "#warning not loaded from SQL Replacement.Contracts.Entity.ProjectEntity\r\n",
      "#warning Column not mapped 7: EntitiyVersion bigint (0)\r\n",
      "#warning ColumnNames: ProjectId, ToDoId, UserId, Title, Done, OperationId, CreatedAt, CreatedBy, ModifiedAt, ModifiedBy, EntitiyVersion\r\n",
      "#warning not loaded from SQL Replacement.Contracts.Entity.ToDoEntity\r\n",
      "#warning Column not mapped 10: EntitiyVersion bigint (0)\r\n",
      "#warning StoredProcedure [dbo].[ProjectUpsert] defines parameter @EntitiyVersion no matching property found.\r\n",
      "#warning ColumnNames: ProjectId, Title, OperationId, CreatedAt, CreatedBy, ModifiedAt, ModifiedBy, EntitiyVersion\r\n",
      "#warning not loaded from SQL Replacement.Contracts.Entity.ProjectEntity\r\n",
      "#warning Column not mapped 7: EntitiyVersion bigint (0)\r\n",
      "#warning StoredProcedure [dbo].[ToDoDeletePK] defines parameter @EntitiyVersion no matching property found.\r\n",
      "#warning ColumnNames: ProjectId, ToDoId, UserId, Title, Done, OperationId, CreatedAt, CreatedBy, ModifiedAt, ModifiedBy, EntitiyVersion\r\n",
      "#warning not loaded from SQL Replacement.Contracts.Entity.ToDoEntity\r\n",
      "#warning Column not mapped 10: EntitiyVersion bigint (0)\r\n",
      "#warning ColumnNames: ProjectId, ToDoId, UserId, Title, Done, OperationId, CreatedAt, CreatedBy, ModifiedAt, ModifiedBy, EntitiyVersion\r\n",
      "#warning not loaded from SQL Replacement.Contracts.Entity.ToDoEntity\r\n",
      "#warning Column not mapped 10: EntitiyVersion bigint (0)\r\n",
      "#warning ColumnNames: ProjectId, ToDoId, UserId, Title, Done, OperationId, CreatedAt, CreatedBy, ModifiedAt, ModifiedBy, EntitiyVersion\r\n",
      "#warning not loaded from SQL Replacement.Contracts.Entity.ToDoEntity\r\n",
      "#warning Column not mapped 10: EntitiyVersion bigint (0)\r\n",
      "#warning StoredProcedure [dbo].[ToDoUpsert] defines parameter @EntitiyVersion no matching property found.\r\n",
      "#warning ColumnNames: ProjectId, ToDoId, UserId, Title, Done, OperationId, CreatedAt, CreatedBy, ModifiedAt, ModifiedBy, EntitiyVersion\r\n",
      "#warning not loaded from SQL Replacement.Contracts.Entity.ToDoEntity\r\n",
      "#warning Column not mapped 10: EntitiyVersion bigint (0)\r\n",
      "#warning StoredProcedure [dbo].[UserDeletePK] defines parameter @EntitiyVersion no matching property found.\r\n",
      "#warning ColumnNames: UserId, UserName, OperationId, CreatedAt, CreatedBy, ModifiedAt, ModifiedBy, EntitiyVersion\r\n",
      "#warning not loaded from SQL Replacement.Contracts.Entity.UserEntity\r\n",
      "#warning Column not mapped 7: EntitiyVersion bigint (0)\r\n",
      "#warning ColumnNames: UserId, UserName, OperationId, CreatedAt, CreatedBy, ModifiedAt, ModifiedBy, EntitiyVersion\r\n",
      "#warning not loaded from SQL Replacement.Contracts.Entity.UserEntity\r\n",
      "#warning Column not mapped 7: EntitiyVersion bigint (0)\r\n",
      "#warning StoredProcedure [dbo].[UserUpsert] defines parameter @EntitiyVersion no matching property found.\r\n",
      "#warning ColumnNames: UserId, UserName, OperationId, CreatedAt, CreatedBy, ModifiedAt, ModifiedBy, EntitiyVersion\r\n",
      "#warning not loaded from SQL Replacement.Contracts.Entity.UserEntity\r\n",
      "#warning Column not mapped 7: EntitiyVersion bigint (0)\r\n",
      "Modfied: C:\\github.com\\FlorianGrimm\\TestOrleans2\\src\\Replacement.Repository\\Service\\SqlAccess.Generated.cs\r\n",
      "done.\r\n"
     ]
    }
   ],
   "source": [
    "dotnet run --project .\\src\\Replacement.DatabaseDevTool\\Replacement.DatabaseDevTool.csproj --steps 4,5"
   ]
  },
  {
   "cell_type": "code",
   "execution_count": null,
   "metadata": {
    "dotnet_interactive": {
     "language": "pwsh"
    },
    "vscode": {
     "languageId": "dotnet-interactive.pwsh"
    }
   },
   "outputs": [],
   "source": [
    "dotnet run --project .\\src\\Replacement.DatabaseDevTool\\Replacement.DatabaseDevTool.csproj --steps 6"
   ]
  },
  {
   "cell_type": "markdown",
   "metadata": {},
   "source": [
    "## Generator Converter"
   ]
  },
  {
   "cell_type": "code",
   "execution_count": null,
   "metadata": {
    "dotnet_interactive": {
     "language": "pwsh"
    },
    "vscode": {
     "languageId": "dotnet-interactive.pwsh"
    }
   },
   "outputs": [],
   "source": [
    "pwsh --file src\\Replacement.Contracts\\GeneratorConverter.ps1"
   ]
  },
  {
   "cell_type": "markdown",
   "metadata": {},
   "source": [
    "## OpenAPI / Swagger"
   ]
  },
  {
   "cell_type": "code",
   "execution_count": null,
   "metadata": {
    "dotnet_interactive": {
     "language": "pwsh"
    },
    "vscode": {
     "languageId": "dotnet-interactive.pwsh"
    }
   },
   "outputs": [],
   "source": [
    "dotnet msbuild /t:SwaggerGenerate src\\Replacement.WebApp\\Replacement.WebApp.csproj"
   ]
  },
  {
   "cell_type": "markdown",
   "metadata": {},
   "source": [
    "## hack"
   ]
  },
  {
   "cell_type": "markdown",
   "metadata": {},
   "source": [
    "dotnet watch --project src\\Replacement.WebApp.Test\\Replacement.WebApp.Test.csproj build\n"
   ]
  }
 ],
 "metadata": {
  "kernelspec": {
   "display_name": ".NET (PowerShell)",
   "language": "PowerShell",
   "name": ".net-pwsh"
  },
  "language_info": {
   "name": "PowerShell"
  }
 },
 "nbformat": 4,
 "nbformat_minor": 2
}
