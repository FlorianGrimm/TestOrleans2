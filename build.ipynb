{
 "cells": [
  {
   "cell_type": "markdown",
   "metadata": {},
   "source": [
    "# Replacement"
   ]
  },
  {
   "cell_type": "markdown",
   "metadata": {},
   "source": [
    "## Build"
   ]
  },
  {
   "cell_type": "code",
   "execution_count": null,
   "metadata": {
    "dotnet_interactive": {
     "language": "pwsh"
    },
    "vscode": {
     "languageId": "dotnet-interactive.pwsh"
    }
   },
   "outputs": [],
   "source": [
    "dotnet build"
   ]
  },
  {
   "cell_type": "markdown",
   "metadata": {},
   "source": [
    "## User Secrets"
   ]
  },
  {
   "cell_type": "code",
   "execution_count": null,
   "metadata": {
    "dotnet_interactive": {
     "language": "pwsh"
    },
    "vscode": {
     "languageId": "dotnet-interactive.pwsh"
    }
   },
   "outputs": [
    {
     "name": "stdout",
     "output_type": "stream",
     "text": [
      "Server = https://localhost:5001\r\n",
      "Database = Data Source=.;Initial Catalog=ToDoDB;Integrated Security=true;TrustServerCertificate=True;\r\n"
     ]
    }
   ],
   "source": [
    "dotnet user-secrets --project src\\Replacement.WebApp\\Replacement.WebApp.csproj list"
   ]
  },
  {
   "cell_type": "code",
   "execution_count": null,
   "metadata": {
    "dotnet_interactive": {
     "language": "pwsh"
    },
    "vscode": {
     "languageId": "dotnet-interactive.pwsh"
    }
   },
   "outputs": [],
   "source": [
    "dotnet user-secrets --project src\\Replacement.WebApp\\Replacement.WebApp.csproj set Database \"Data Source=.;Initial Catalog=ToDoDB;Integrated Security=true;TrustServerCertificate=True;\""
   ]
  },
  {
   "cell_type": "markdown",
   "metadata": {},
   "source": [
    "## Test"
   ]
  },
  {
   "cell_type": "code",
   "execution_count": null,
   "metadata": {
    "dotnet_interactive": {
     "language": "pwsh"
    },
    "vscode": {
     "languageId": "dotnet-interactive.pwsh"
    }
   },
   "outputs": [],
   "source": [
    "dotnet test src\\Replacement.WebApp.Test\\Replacement.WebApp.Test.csproj"
   ]
  },
  {
   "cell_type": "code",
   "execution_count": null,
   "metadata": {
    "dotnet_interactive": {
     "language": "pwsh"
    },
    "vscode": {
     "languageId": "dotnet-interactive.pwsh"
    }
   },
   "outputs": [
    {
     "name": "stdout",
     "output_type": "stream",
     "text": [
      "  Determining projects to restore...\r\n",
      "  Restored G:\\github\\FlorianGrimm\\TestOrleans2\\src\\Replacement.Contracts\\Replacement.Contracts.csproj (in 357 ms).\r\n",
      "  Restored G:\\github\\FlorianGrimm\\TestOrleans2\\external\\Brimborium.TypedSql\\Brimborium.Tracking\\Brimborium.Tracking.csproj (in 436 ms).\r\n",
      "  Restored G:\\github\\FlorianGrimm\\TestOrleans2\\external\\Brimborium.TypedSql\\Brimborium.SqlAccess\\Brimborium.SqlAccess.csproj (in 437 ms).\r\n",
      "  Restored G:\\github\\FlorianGrimm\\TestOrleans2\\src\\Replacement.Repository\\Replacement.Repository.csproj (in 461 ms).\r\n",
      "  1 of 5 projects are up-to-date for restore.\r\n",
      "G:\\github\\FlorianGrimm\\TestOrleans2\\src\\Replacement.Contracts\\API\\RequestOperation.cs(1,10): warning CS1030: #warning: 'WEICHEI' [G:\\github\\FlorianGrimm\\TestOrleans2\\src\\Replacement.Contracts\\Replacement.Contracts.csproj]\r\n",
      "G:\\github\\FlorianGrimm\\TestOrleans2\\src\\Replacement.Contracts\\Entity\\RequestOperationEntity.cs(1,10): warning CS1030: #warning: 'WEICHEI' [G:\\github\\FlorianGrimm\\TestOrleans2\\src\\Replacement.Contracts\\Replacement.Contracts.csproj]\r\n",
      "G:\\github\\FlorianGrimm\\TestOrleans2\\external\\Brimborium.TypedSql\\Brimborium.Tracking\\TrackingObject.cs(86,10): warning CS1030: #warning: 'TODO add TEST' [G:\\github\\FlorianGrimm\\TestOrleans2\\external\\Brimborium.TypedSql\\Brimborium.Tracking\\Brimborium.Tracking.csproj]\r\n",
      "  Replacement.Contracts -> G:\\github\\FlorianGrimm\\TestOrleans2\\src\\Replacement.Contracts\\bin\\Debug\\net6.0\\Replacement.Contracts.dll\r\n",
      "G:\\github\\FlorianGrimm\\TestOrleans2\\external\\Brimborium.TypedSql\\Brimborium.Tracking\\TrackingTestConnection.cs(3,10): warning CS1030: #warning: 'weichei' [G:\\github\\FlorianGrimm\\TestOrleans2\\external\\Brimborium.TypedSql\\Brimborium.Tracking\\Brimborium.Tracking.csproj]\r\n",
      "  Brimborium.Tracking -> G:\\github\\FlorianGrimm\\TestOrleans2\\external\\Brimborium.TypedSql\\Brimborium.Tracking\\bin\\Debug\\net6.0\\Brimborium.Tracking.dll\r\n",
      "G:\\github\\FlorianGrimm\\TestOrleans2\\external\\Brimborium.TypedSql\\Brimborium.SqlAccess\\IDataAccessBase.cs(3,10): warning CS1030: #warning: 'TODO' [G:\\github\\FlorianGrimm\\TestOrleans2\\external\\Brimborium.TypedSql\\Brimborium.SqlAccess\\Brimborium.SqlAccess.csproj]\r\n",
      "  Brimborium.SqlAccess -> G:\\github\\FlorianGrimm\\TestOrleans2\\external\\Brimborium.TypedSql\\Brimborium.SqlAccess\\bin\\Debug\\net6.0\\Brimborium.SqlAccess.dll\r\n",
      "  Orleans.CodeGenerator - command-line = SourceToSource G:\\github\\FlorianGrimm\\TestOrleans2\\src\\Replacement.Repository\\obj\\Debug\\net6.0\\Replacement.Repository.orleans.g.args.txt\r\n",
      "G:\\github\\FlorianGrimm\\TestOrleans2\\src\\Replacement.Repository\\Grains\\ProjectGrain.cs(143,10): warning CS1030: #warning: 'TODO' [G:\\github\\FlorianGrimm\\TestOrleans2\\src\\Replacement.Repository\\Replacement.Repository.csproj]\r\n",
      "G:\\github\\FlorianGrimm\\TestOrleans2\\src\\Replacement.Repository\\Grains\\ProjectGrain.cs(151,10): warning CS1030: #warning: 'TODO' [G:\\github\\FlorianGrimm\\TestOrleans2\\src\\Replacement.Repository\\Replacement.Repository.csproj]\r\n",
      "G:\\github\\FlorianGrimm\\TestOrleans2\\src\\Replacement.Repository\\Grains\\UserGrain.cs(146,10): warning CS1030: #warning: 'here' [G:\\github\\FlorianGrimm\\TestOrleans2\\src\\Replacement.Repository\\Replacement.Repository.csproj]\r\n",
      "G:\\github\\FlorianGrimm\\TestOrleans2\\src\\Replacement.Repository\\Grains\\UserTodoGrain.cs(43,10): warning CS1030: #warning: 'TODO check user            ' [G:\\github\\FlorianGrimm\\TestOrleans2\\src\\Replacement.Repository\\Replacement.Repository.csproj]\r\n",
      "G:\\github\\FlorianGrimm\\TestOrleans2\\src\\Replacement.Repository\\Grains\\UserTodoGrain.cs(63,10): warning CS1030: #warning: 'TODO check user' [G:\\github\\FlorianGrimm\\TestOrleans2\\src\\Replacement.Repository\\Replacement.Repository.csproj]\r\n",
      "  Replacement.Repository -> G:\\github\\FlorianGrimm\\TestOrleans2\\src\\Replacement.Repository\\bin\\Debug\\net6.0\\Replacement.Repository.dll\r\n",
      "  Replacement.Repository.Test -> G:\\github\\FlorianGrimm\\TestOrleans2\\src\\Replacement.Repository.Test\\bin\\Debug\\net6.0\\Replacement.Repository.Test.dll\r\n",
      "Test run for G:\\github\\FlorianGrimm\\TestOrleans2\\src\\Replacement.Repository.Test\\bin\\Debug\\net6.0\\Replacement.Repository.Test.dll (.NETCoreApp,Version=v6.0)\r\n",
      "Microsoft (R) Test Execution Command Line Tool Version 17.1.0\r\n",
      "Copyright (c) Microsoft Corporation.  All rights reserved.\r\n",
      "\r\n",
      "Starting test execution, please wait...\r\n",
      "A total of 1 test files matched the specified pattern.\r\n",
      "\r\n",
      "Passed!  - Failed:     0, Passed:     1, Skipped:     0, Total:     1, Duration: < 1 ms - Replacement.Repository.Test.dll (net6.0)\r\n"
     ]
    }
   ],
   "source": [
    "dotnet test src\\Replacement.Repository.Test\\Replacement.Repository.Test.csproj"
   ]
  },
  {
   "cell_type": "code",
   "execution_count": null,
   "metadata": {
    "dotnet_interactive": {
     "language": "pwsh"
    },
    "vscode": {
     "languageId": "dotnet-interactive.pwsh"
    }
   },
   "outputs": [],
   "source": [
    "dotnet test external\\Brimborium.RowVersion\\Brimborium.RowVersion.Test\\Brimborium.RowVersion.Test.csproj"
   ]
  },
  {
   "cell_type": "markdown",
   "metadata": {},
   "source": [
    "## Update SQL"
   ]
  },
  {
   "cell_type": "code",
   "execution_count": null,
   "metadata": {
    "dotnet_interactive": {
     "language": "pwsh"
    },
    "vscode": {
     "languageId": "dotnet-interactive.pwsh"
    }
   },
   "outputs": [],
   "source": [
    "dotnet run --project src\\Replacement.DatabaseDevTool\\Replacement.DatabaseDevTool.csproj"
   ]
  },
  {
   "cell_type": "code",
   "execution_count": null,
   "metadata": {
    "dotnet_interactive": {
     "language": "pwsh"
    },
    "vscode": {
     "languageId": "dotnet-interactive.pwsh"
    }
   },
   "outputs": [],
   "source": [
    "dotnet run --project .\\src\\Replacement.DatabaseDevTool\\Replacement.DatabaseDevTool.csproj --steps 1,2,3,4,5 --force true"
   ]
  },
  {
   "cell_type": "code",
   "execution_count": null,
   "metadata": {
    "dotnet_interactive": {
     "language": "pwsh"
    },
    "vscode": {
     "languageId": "dotnet-interactive.pwsh"
    }
   },
   "outputs": [],
   "source": [
    "\n",
    "dotnet run --project .\\src\\Replacement.DatabaseDevTool\\Replacement.DatabaseDevTool.csproj --steps 1 --force true"
   ]
  },
  {
   "cell_type": "code",
   "execution_count": null,
   "metadata": {
    "dotnet_interactive": {
     "language": "pwsh"
    },
    "vscode": {
     "languageId": "dotnet-interactive.pwsh"
    }
   },
   "outputs": [],
   "source": [
    "dotnet run --project .\\src\\Replacement.DatabaseDevTool\\Replacement.DatabaseDevTool.csproj --steps 2"
   ]
  },
  {
   "cell_type": "code",
   "execution_count": null,
   "metadata": {
    "dotnet_interactive": {
     "language": "pwsh"
    },
    "vscode": {
     "languageId": "dotnet-interactive.pwsh"
    }
   },
   "outputs": [],
   "source": [
    "dotnet run --project .\\src\\Replacement.DatabaseDevTool\\Replacement.DatabaseDevTool.csproj --steps 3 --force true"
   ]
  },
  {
   "cell_type": "markdown",
   "metadata": {},
   "source": [
    "## Generte Converter"
   ]
  },
  {
   "cell_type": "code",
   "execution_count": null,
   "metadata": {
    "dotnet_interactive": {
     "language": "pwsh"
    },
    "vscode": {
     "languageId": "dotnet-interactive.pwsh"
    }
   },
   "outputs": [],
   "source": [
    "pwsh --file src\\Replacement.Contracts\\GeneratorConverter.ps1"
   ]
  },
  {
   "cell_type": "markdown",
   "metadata": {},
   "source": [
    "## OpenAPI / Swagger"
   ]
  },
  {
   "cell_type": "code",
   "execution_count": null,
   "metadata": {
    "dotnet_interactive": {
     "language": "pwsh"
    },
    "vscode": {
     "languageId": "dotnet-interactive.pwsh"
    }
   },
   "outputs": [],
   "source": [
    "dotnet msbuild /t:SwaggerGenerate src\\Replacement.WebApp\\Replacement.WebApp.csproj"
   ]
  },
  {
   "cell_type": "markdown",
   "metadata": {},
   "source": [
    "## hack"
   ]
  },
  {
   "cell_type": "markdown",
   "metadata": {},
   "source": [
    "dotnet watch --project src\\Replacement.WebApp.Test\\Replacement.WebApp.Test.csproj build\n"
   ]
  }
 ],
 "metadata": {
  "kernelspec": {
   "display_name": ".NET (PowerShell)",
   "language": "PowerShell",
   "name": ".net-pwsh"
  },
  "language_info": {
   "name": "PowerShell"
  }
 },
 "nbformat": 4,
 "nbformat_minor": 2
}
